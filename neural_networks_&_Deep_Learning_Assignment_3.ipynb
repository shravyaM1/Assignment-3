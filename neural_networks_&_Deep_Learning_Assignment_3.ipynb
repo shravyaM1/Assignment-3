{
  "nbformat": 4,
  "nbformat_minor": 0,
  "metadata": {
    "colab": {
      "provenance": []
    },
    "kernelspec": {
      "name": "python3",
      "display_name": "Python 3"
    },
    "language_info": {
      "name": "python"
    }
  },
  "cells": [
    {
      "cell_type": "code",
      "execution_count": 4,
      "metadata": {
        "colab": {
          "base_uri": "https://localhost:8080/"
        },
        "id": "dLyIQVNpXYzL",
        "outputId": "3fd51c9c-6962-4a63-b171-e8efbe91a6f6"
      },
      "outputs": [
        {
          "output_type": "stream",
          "name": "stdout",
          "text": [
            "Name: Shravya Mendu\n",
            "Family: Mendu Family\n",
            "Salary: $70000\n",
            "Department: HR\n",
            "------------------------\n",
            "Name: Sreekanth Reddy\n",
            "Family: Reddy Family\n",
            "Salary: $65000\n",
            "Department: IT\n",
            "------------------------\n",
            "Name: Mendu Sai\n",
            "Family: Sai Family\n",
            "Salary: $75000\n",
            "Department: Finance\n",
            "------------------------\n",
            "Name: Sai Prem\n",
            "Family: Prem Family\n",
            "Salary: $80000\n",
            "Department: Marketing\n",
            "------------------------\n",
            "Name: Dondapati Hruthik\n",
            "Family: Hruthik Family\n",
            "Salary: $70000\n",
            "Department: Sales\n",
            "------------------------\n",
            "Average Salary: $72000.00\n",
            "Total Number of Employees: 5\n"
          ]
        }
      ],
      "source": [
        "class Employee:\n",
        "    num_employees = 0\n",
        "\n",
        "    def __init__(self, name, family, salary, department):\n",
        "        self.name = name\n",
        "        self.family = family\n",
        "        self.salary = salary\n",
        "        self.department = department\n",
        "        Employee.num_employees += 1\n",
        "\n",
        "    def display_employee_info(self):\n",
        "        print(f\"Name: {self.name}\")\n",
        "        print(f\"Family: {self.family}\")\n",
        "        print(f\"Salary: ${self.salary}\")\n",
        "        print(f\"Department: {self.department}\")\n",
        "\n",
        "    @staticmethod\n",
        "    def average_salary(employee_list):\n",
        "        total_salary = sum(emp.salary for emp in employee_list)\n",
        "        return total_salary / len(employee_list) if len(employee_list) > 0 else 0\n",
        "\n",
        "\n",
        "class FulltimeEmployee(Employee):\n",
        "    def __init__(self, name, family, salary, department):\n",
        "        super().__init__(name, family, salary, department)\n",
        "\n",
        "\n",
        "# Create instances of Employee class\n",
        "employee1 = Employee(\"Shravya Mendu\", \"Mendu Family\", 70000, \"HR\")\n",
        "employee2 = Employee(\"Sreekanth Reddy\", \"Reddy Family\", 65000, \"IT\")\n",
        "employee3 = Employee(\"Mendu Sai\", \"Sai Family\", 75000, \"Finance\")\n",
        "\n",
        "# Create instances of FulltimeEmployee class\n",
        "fulltime_employee1 = FulltimeEmployee(\"Sai Prem\", \"Prem Family\", 80000, \"Marketing\")\n",
        "fulltime_employee2 = FulltimeEmployee(\"Dondapati Hruthik\", \"Hruthik Family\", 70000, \"Sales\")\n",
        "\n",
        "# Display employee information\n",
        "employee1.display_employee_info()\n",
        "print(\"------------------------\")\n",
        "employee2.display_employee_info()\n",
        "print(\"------------------------\")\n",
        "employee3.display_employee_info()\n",
        "print(\"------------------------\")\n",
        "fulltime_employee1.display_employee_info()\n",
        "print(\"------------------------\")\n",
        "fulltime_employee2.display_employee_info()\n",
        "print(\"------------------------\")\n",
        "\n",
        "# Calculate and display average salary\n",
        "all_employees = [employee1, employee2, employee3, fulltime_employee1, fulltime_employee2]\n",
        "avg_salary = Employee.average_salary(all_employees)\n",
        "print(f\"Average Salary: ${avg_salary:.2f}\")\n",
        "\n",
        "# Display total number of employees\n",
        "print(f\"Total Number of Employees: {Employee.num_employees}\")"
      ]
    },
    {
      "cell_type": "code",
      "source": [
        "\n",
        "\n",
        "\n",
        "\n",
        "\n",
        "\n",
        "\n",
        "import numpy as np\n",
        "\n",
        "# Create a random vector of size 20 with floats in the range 1-20\n",
        "random_vector = np.random.uniform(1, 20, 20)\n",
        "\n",
        "# Reshape the vector into a 4x5 array\n",
        "reshaped_array = random_vector.reshape(4, 5)\n",
        "\n",
        "# Find the indices of the maximum value in each row\n",
        "max_indices = np.argmax(reshaped_array, axis=1)\n",
        "\n",
        "# Replace the maximum value in each row with 0\n",
        "for row_idx, col_idx in enumerate(max_indices):\n",
        "    reshaped_array[row_idx, col_idx] = 0\n",
        "\n",
        "print(\"Original random vector:\")\n",
        "print(random_vector)\n",
        "print(\"\\nReshaped array:\")\n",
        "print(reshaped_array)"
      ],
      "metadata": {
        "colab": {
          "base_uri": "https://localhost:8080/"
        },
        "id": "GYVcKv7gYMBT",
        "outputId": "3fe11d73-7c26-4bac-bc3a-1c9801ef8315"
      },
      "execution_count": 5,
      "outputs": [
        {
          "output_type": "stream",
          "name": "stdout",
          "text": [
            "Original random vector:\n",
            "[ 4.82502281  7.91233256 15.99817744  0.          7.68987985  9.5372914\n",
            " 10.416637    0.         13.20609747  7.10925214 15.46040703  6.50036468\n",
            " 10.6571396   0.          8.60048663  7.61309465 16.64008095  0.\n",
            " 15.03758266 17.87398975]\n",
            "\n",
            "Reshaped array:\n",
            "[[ 4.82502281  7.91233256 15.99817744  0.          7.68987985]\n",
            " [ 9.5372914  10.416637    0.         13.20609747  7.10925214]\n",
            " [15.46040703  6.50036468 10.6571396   0.          8.60048663]\n",
            " [ 7.61309465 16.64008095  0.         15.03758266 17.87398975]]\n"
          ]
        }
      ]
    }
  ]
}